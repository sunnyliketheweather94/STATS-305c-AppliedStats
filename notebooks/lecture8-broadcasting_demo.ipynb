{
  "nbformat": 4,
  "nbformat_minor": 0,
  "metadata": {
    "colab": {
      "name": "Broadcasting Demo.ipynb",
      "provenance": [],
      "collapsed_sections": []
    },
    "kernelspec": {
      "name": "python3",
      "display_name": "Python 3"
    },
    "language_info": {
      "name": "python"
    }
  },
  "cells": [
    {
      "cell_type": "markdown",
      "source": [
        "# Broadcasting Demo\n",
        "\n",
        "**STATS 305C: Applied Statistics III**\n",
        "\n",
        "_Stanford University. Spring, 2022._\n",
        "\n",
        "[![Open In Colab](https://colab.research.google.com/assets/colab-badge.svg)](https://colab.research.google.com/github/slinderman/stats305c/blob/master/notebooks/lecture8-broadcasting_demo.ipynb)\n",
        "\n",
        "---\n"
      ],
      "metadata": {
        "id": "FbHE305rKc4c"
      }
    },
    {
      "cell_type": "markdown",
      "source": [
        "\n",
        "\n",
        "Many questions came up in office hours about how to use broadcasting and index tricks in PyTorch. You can read more about these features here:\n",
        "\n",
        "https://pytorch.org/docs/stable/notes/broadcasting.html\n",
        "\n",
        "In short, the rules are the same as for Numpy, which is all documented here:\n",
        "\n",
        "https://numpy.org/doc/stable/user/basics.broadcasting.html\n",
        "\n",
        "Numpy also supports many indexing tricks to make your life easier. You can read about those here:\n",
        "\n",
        "https://numpy.org/doc/stable/user/basics.indexing.html\n",
        "\n",
        "This notebook illustrates a few use cases."
      ],
      "metadata": {
        "id": "9zAZQWk0HFd3"
      }
    },
    {
      "cell_type": "code",
      "execution_count": 1,
      "metadata": {
        "id": "aV5uLBVkdCuR"
      },
      "outputs": [],
      "source": [
        "import torch\n",
        "from torch.distributions import MultivariateNormal\n",
        "\n",
        "import matplotlib.pyplot as plt \n"
      ]
    },
    {
      "cell_type": "markdown",
      "source": [
        "## Fancy indexing with binary masks"
      ],
      "metadata": {
        "id": "BVWCSzvnKw9h"
      }
    },
    {
      "cell_type": "code",
      "source": [
        "A = torch.arange(6).reshape(3, 2)\n",
        "A"
      ],
      "metadata": {
        "colab": {
          "base_uri": "https://localhost:8080/"
        },
        "id": "FegfhyfDdErh",
        "outputId": "c7f583bf-2456-4686-d8d2-26df813cafbe"
      },
      "execution_count": 2,
      "outputs": [
        {
          "output_type": "execute_result",
          "data": {
            "text/plain": [
              "tensor([[0, 1],\n",
              "        [2, 3],\n",
              "        [4, 5]])"
            ]
          },
          "metadata": {},
          "execution_count": 2
        }
      ]
    },
    {
      "cell_type": "code",
      "source": [
        "# Getting entries of A according to mask\n",
        "mask = torch.tensor([[0, 1],\n",
        "                     [1, 0],\n",
        "                     [0, 1]], dtype=torch.bool)\n",
        "\n",
        "A[mask]"
      ],
      "metadata": {
        "id": "0pj0HEQKdHq7",
        "colab": {
          "base_uri": "https://localhost:8080/"
        },
        "outputId": "8ea0936e-d5b3-4b74-ba0e-c4f747a04e84"
      },
      "execution_count": 3,
      "outputs": [
        {
          "output_type": "execute_result",
          "data": {
            "text/plain": [
              "tensor([1, 2, 5])"
            ]
          },
          "metadata": {},
          "execution_count": 3
        }
      ]
    },
    {
      "cell_type": "code",
      "source": [
        "# Setting to masked entries of a tensor\n",
        "X = torch.zeros((3, 2))\n",
        "X[mask] = torch.arange(3, dtype=torch.float)\n",
        "X"
      ],
      "metadata": {
        "colab": {
          "base_uri": "https://localhost:8080/"
        },
        "id": "-Idyq9B4FMZV",
        "outputId": "ff949bbe-b968-4397-d1b2-bfb2e4b5148b"
      },
      "execution_count": 4,
      "outputs": [
        {
          "output_type": "execute_result",
          "data": {
            "text/plain": [
              "tensor([[0., 0.],\n",
              "        [1., 0.],\n",
              "        [0., 2.]])"
            ]
          },
          "metadata": {},
          "execution_count": 4
        }
      ]
    },
    {
      "cell_type": "markdown",
      "source": [
        "## Repeating and automatically \"unsqueezing\"\n",
        "\n"
      ],
      "metadata": {
        "id": "AtMB9UKSEvAJ"
      }
    },
    {
      "cell_type": "code",
      "source": [
        "z = torch.arange(3).repeat(4, 1)\n",
        "z"
      ],
      "metadata": {
        "colab": {
          "base_uri": "https://localhost:8080/"
        },
        "id": "GQHkIS9gd9Qs",
        "outputId": "44bc4213-59b9-4736-ef0e-f913b95bbc57"
      },
      "execution_count": 5,
      "outputs": [
        {
          "output_type": "execute_result",
          "data": {
            "text/plain": [
              "tensor([[0, 1, 2],\n",
              "        [0, 1, 2],\n",
              "        [0, 1, 2],\n",
              "        [0, 1, 2]])"
            ]
          },
          "metadata": {},
          "execution_count": 5
        }
      ]
    },
    {
      "cell_type": "markdown",
      "source": [
        "## Broadcasting"
      ],
      "metadata": {
        "id": "0xkwZvkXhFt0"
      }
    },
    {
      "cell_type": "code",
      "source": [
        "X = torch.arange(12).reshape(4, 3)\n",
        "X"
      ],
      "metadata": {
        "id": "8ZnQUgqweJgs",
        "colab": {
          "base_uri": "https://localhost:8080/"
        },
        "outputId": "d8c797a0-04f9-48d5-87b6-93616302baa8"
      },
      "execution_count": 6,
      "outputs": [
        {
          "output_type": "execute_result",
          "data": {
            "text/plain": [
              "tensor([[ 0,  1,  2],\n",
              "        [ 3,  4,  5],\n",
              "        [ 6,  7,  8],\n",
              "        [ 9, 10, 11]])"
            ]
          },
          "metadata": {},
          "execution_count": 6
        }
      ]
    },
    {
      "cell_type": "code",
      "source": [
        "Y = torch.arange(3).repeat(4, 1)\n",
        "Y"
      ],
      "metadata": {
        "colab": {
          "base_uri": "https://localhost:8080/"
        },
        "id": "2W0W0ZdxFkRu",
        "outputId": "6580400d-3402-4d6c-8091-bd55e67348a5"
      },
      "execution_count": 7,
      "outputs": [
        {
          "output_type": "execute_result",
          "data": {
            "text/plain": [
              "tensor([[0, 1, 2],\n",
              "        [0, 1, 2],\n",
              "        [0, 1, 2],\n",
              "        [0, 1, 2]])"
            ]
          },
          "metadata": {},
          "execution_count": 7
        }
      ]
    },
    {
      "cell_type": "code",
      "source": [
        "out = X + Y\n",
        "print(out)\n",
        "print(out.shape)"
      ],
      "metadata": {
        "colab": {
          "base_uri": "https://localhost:8080/"
        },
        "id": "iRxJt1qIh8u-",
        "outputId": "ca28d8e5-baad-423d-c172-78c861a0d9e5"
      },
      "execution_count": 8,
      "outputs": [
        {
          "output_type": "stream",
          "name": "stdout",
          "text": [
            "tensor([[ 0,  2,  4],\n",
            "        [ 3,  5,  7],\n",
            "        [ 6,  8, 10],\n",
            "        [ 9, 11, 13]])\n",
            "torch.Size([4, 3])\n"
          ]
        }
      ]
    },
    {
      "cell_type": "code",
      "source": [
        "X = torch.arange(3).unsqueeze(0).unsqueeze(0).repeat(4, 1, 1)\n",
        "Y = torch.arange(3).unsqueeze(0).unsqueeze(0).repeat(1, 5, 1)\n",
        "X + Y"
      ],
      "metadata": {
        "colab": {
          "base_uri": "https://localhost:8080/"
        },
        "id": "YAvBzoYPejwV",
        "outputId": "0f894910-2ca4-4f57-a065-eb1084d9a6e8"
      },
      "execution_count": 9,
      "outputs": [
        {
          "output_type": "execute_result",
          "data": {
            "text/plain": [
              "tensor([[[0, 2, 4],\n",
              "         [0, 2, 4],\n",
              "         [0, 2, 4],\n",
              "         [0, 2, 4],\n",
              "         [0, 2, 4]],\n",
              "\n",
              "        [[0, 2, 4],\n",
              "         [0, 2, 4],\n",
              "         [0, 2, 4],\n",
              "         [0, 2, 4],\n",
              "         [0, 2, 4]],\n",
              "\n",
              "        [[0, 2, 4],\n",
              "         [0, 2, 4],\n",
              "         [0, 2, 4],\n",
              "         [0, 2, 4],\n",
              "         [0, 2, 4]],\n",
              "\n",
              "        [[0, 2, 4],\n",
              "         [0, 2, 4],\n",
              "         [0, 2, 4],\n",
              "         [0, 2, 4],\n",
              "         [0, 2, 4]]])"
            ]
          },
          "metadata": {},
          "execution_count": 9
        }
      ]
    },
    {
      "cell_type": "markdown",
      "source": [
        "## Unsqueezing to create new dimensions"
      ],
      "metadata": {
        "id": "gP4dt7UQFwiF"
      }
    },
    {
      "cell_type": "code",
      "source": [
        "X.unsqueeze(0)"
      ],
      "metadata": {
        "colab": {
          "base_uri": "https://localhost:8080/"
        },
        "id": "goAdy-oSkC9m",
        "outputId": "ce68e2c5-1b2c-4992-929d-892b1c049e27"
      },
      "execution_count": 10,
      "outputs": [
        {
          "output_type": "execute_result",
          "data": {
            "text/plain": [
              "tensor([[[[0, 1, 2]],\n",
              "\n",
              "         [[0, 1, 2]],\n",
              "\n",
              "         [[0, 1, 2]],\n",
              "\n",
              "         [[0, 1, 2]]]])"
            ]
          },
          "metadata": {},
          "execution_count": 10
        }
      ]
    },
    {
      "cell_type": "code",
      "source": [
        "X.unsqueeze(0).shape"
      ],
      "metadata": {
        "colab": {
          "base_uri": "https://localhost:8080/"
        },
        "id": "Je7YXdB_j-vc",
        "outputId": "8f53929f-0aac-4b16-92b3-0ef4ff703d8a"
      },
      "execution_count": 11,
      "outputs": [
        {
          "output_type": "execute_result",
          "data": {
            "text/plain": [
              "torch.Size([1, 4, 1, 3])"
            ]
          },
          "metadata": {},
          "execution_count": 11
        }
      ]
    },
    {
      "cell_type": "code",
      "source": [
        "X.unsqueeze(1).shape"
      ],
      "metadata": {
        "colab": {
          "base_uri": "https://localhost:8080/"
        },
        "id": "FoZ6Us2Xj_fZ",
        "outputId": "9d461819-fb60-4a31-8656-4b340974a16c"
      },
      "execution_count": 12,
      "outputs": [
        {
          "output_type": "execute_result",
          "data": {
            "text/plain": [
              "torch.Size([4, 1, 1, 3])"
            ]
          },
          "metadata": {},
          "execution_count": 12
        }
      ]
    },
    {
      "cell_type": "markdown",
      "source": [
        "## Example: Computing a distance matrix"
      ],
      "metadata": {
        "id": "SPS2fbB-FzAp"
      }
    },
    {
      "cell_type": "code",
      "source": [
        "X = torch.arange(10).reshape(5, 2).type(torch.float)\n",
        "dist = torch.sqrt(torch.sum((X.unsqueeze(0) - X.unsqueeze(1))**2, dim=-1))\n",
        "dist"
      ],
      "metadata": {
        "colab": {
          "base_uri": "https://localhost:8080/"
        },
        "id": "GfUJ63KwjGg2",
        "outputId": "97ab4a0f-2eec-42a4-ffac-0257858cfd6c"
      },
      "execution_count": 13,
      "outputs": [
        {
          "output_type": "execute_result",
          "data": {
            "text/plain": [
              "tensor([[ 0.0000,  2.8284,  5.6569,  8.4853, 11.3137],\n",
              "        [ 2.8284,  0.0000,  2.8284,  5.6569,  8.4853],\n",
              "        [ 5.6569,  2.8284,  0.0000,  2.8284,  5.6569],\n",
              "        [ 8.4853,  5.6569,  2.8284,  0.0000,  2.8284],\n",
              "        [11.3137,  8.4853,  5.6569,  2.8284,  0.0000]])"
            ]
          },
          "metadata": {},
          "execution_count": 13
        }
      ]
    },
    {
      "cell_type": "code",
      "source": [
        "plt.imshow(dist)\n",
        "plt.colorbar()"
      ],
      "metadata": {
        "colab": {
          "base_uri": "https://localhost:8080/",
          "height": 282
        },
        "id": "vPSE685fF1Pq",
        "outputId": "0846d104-9f11-4e6a-e53d-ea92e6feba4c"
      },
      "execution_count": 14,
      "outputs": [
        {
          "output_type": "execute_result",
          "data": {
            "text/plain": [
              "<matplotlib.colorbar.Colorbar at 0x7f192ed77ed0>"
            ]
          },
          "metadata": {},
          "execution_count": 14
        },
        {
          "output_type": "display_data",
          "data": {
            "text/plain": [
              "<Figure size 432x288 with 2 Axes>"
            ],
            "image/png": "[encoded data removed]"
          },
          "metadata": {
            "needs_background": "light"
          }
        }
      ]
    },
    {
      "cell_type": "markdown",
      "source": [
        "## Example computing log probabilities of a batch of data"
      ],
      "metadata": {
        "id": "urWfM4pmF5dM"
      }
    },
    {
      "cell_type": "code",
      "source": [
        "# mean: (D,)\n",
        "# covariance: (D, D)\n",
        "# data: (N, D) \n",
        "# log_prob -> (N,)\n",
        "N = 10\n",
        "D = 3\n",
        "torch.manual_seed(0)\n",
        "mean = torch.zeros(D)\n",
        "cov = torch.eye(D)\n",
        "data = torch.randn(N, D)\n",
        "MultivariateNormal(mean, cov).log_prob(data)"
      ],
      "metadata": {
        "id": "bktAUo2EkNW9",
        "colab": {
          "base_uri": "https://localhost:8080/"
        },
        "outputId": "530bdd51-1ba6-42b8-b3d1-1451e6afa856"
      },
      "execution_count": 15,
      "outputs": [
        {
          "output_type": "execute_result",
          "data": {
            "text/plain": [
              "tensor([-4.0859, -3.4505, -5.0958, -3.6635, -3.5402, -2.9518, -3.0057, -5.7989,\n",
              "        -3.1180, -5.5450])"
            ]
          },
          "metadata": {},
          "execution_count": 15
        }
      ]
    },
    {
      "cell_type": "code",
      "source": [
        "# mean: (N, D,)\n",
        "# covariance: (D, D)\n",
        "# data: (N, D) \n",
        "# log_prob -> (N,)\n",
        "N = 10\n",
        "D = 3\n",
        "torch.manual_seed(0)\n",
        "mean = torch.zeros((N, D))\n",
        "cov = torch.eye(D)\n",
        "data = torch.randn(N, D)\n",
        "MultivariateNormal(mean, cov).log_prob(data)"
      ],
      "metadata": {
        "colab": {
          "base_uri": "https://localhost:8080/"
        },
        "id": "pYBWwhDfGM4H",
        "outputId": "7923377c-c552-465b-d04f-ce58ea255754"
      },
      "execution_count": 16,
      "outputs": [
        {
          "output_type": "execute_result",
          "data": {
            "text/plain": [
              "tensor([-4.0859, -3.4505, -5.0958, -3.6635, -3.5402, -2.9518, -3.0057, -5.7989,\n",
              "        -3.1180, -5.5450])"
            ]
          },
          "metadata": {},
          "execution_count": 16
        }
      ]
    },
    {
      "cell_type": "code",
      "source": [
        "# mean: (D,)\n",
        "# covariance: (N, D, D)\n",
        "# data: (N, D) \n",
        "# log_prob -> (N,)\n",
        "N = 10\n",
        "D = 3\n",
        "torch.manual_seed(0)\n",
        "mean = torch.zeros(D)\n",
        "cov = torch.eye(D).repeat(N, 1, 1)\n",
        "data = torch.randn(N, D)\n",
        "MultivariateNormal(mean, cov).log_prob(data)"
      ],
      "metadata": {
        "colab": {
          "base_uri": "https://localhost:8080/"
        },
        "id": "-wdzbiIVGQzz",
        "outputId": "adc55838-c706-45d7-a7db-2313b5b7308d"
      },
      "execution_count": 17,
      "outputs": [
        {
          "output_type": "execute_result",
          "data": {
            "text/plain": [
              "tensor([-4.0859, -3.4505, -5.0958, -3.6635, -3.5402, -2.9518, -3.0057, -5.7989,\n",
              "        -3.1180, -5.5450])"
            ]
          },
          "metadata": {},
          "execution_count": 17
        }
      ]
    },
    {
      "cell_type": "code",
      "source": [
        "# mean: (K, D,)\n",
        "# covariance: (K, D, D)\n",
        "# data: (N, D) \n",
        "# log_prob(data.unsqueeze(1)) -> (N,K)\n",
        "N = 10\n",
        "D = 3\n",
        "K = 4\n",
        "torch.manual_seed(0)\n",
        "mean = torch.zeros((K,D))\n",
        "cov = torch.eye(D).repeat(K, 1, 1)\n",
        "data = torch.randn(N, D)\n",
        "MultivariateNormal(mean, cov).log_prob(data.unsqueeze(1))"
      ],
      "metadata": {
        "colab": {
          "base_uri": "https://localhost:8080/"
        },
        "id": "zjaAI7rBGVrQ",
        "outputId": "299e5efe-b606-4f1e-9a0a-6e1f26e9a967"
      },
      "execution_count": 18,
      "outputs": [
        {
          "output_type": "execute_result",
          "data": {
            "text/plain": [
              "tensor([[-4.0859, -4.0859, -4.0859, -4.0859],\n",
              "        [-3.4505, -3.4505, -3.4505, -3.4505],\n",
              "        [-5.0958, -5.0958, -5.0958, -5.0958],\n",
              "        [-3.6635, -3.6635, -3.6635, -3.6635],\n",
              "        [-3.5402, -3.5402, -3.5402, -3.5402],\n",
              "        [-2.9518, -2.9518, -2.9518, -2.9518],\n",
              "        [-3.0057, -3.0057, -3.0057, -3.0057],\n",
              "        [-5.7989, -5.7989, -5.7989, -5.7989],\n",
              "        [-3.1180, -3.1180, -3.1180, -3.1180],\n",
              "        [-5.5450, -5.5450, -5.5450, -5.5450]])"
            ]
          },
          "metadata": {},
          "execution_count": 18
        }
      ]
    },
    {
      "cell_type": "code",
      "source": [
        "# mean: (K, D,)\n",
        "# covariance: (D, D)\n",
        "# data: (N, D) \n",
        "# log_prob(data.unsqueeze(1)) -> (N,K)\n",
        "N = 10\n",
        "D = 3\n",
        "K = 4\n",
        "torch.manual_seed(0)\n",
        "mean = torch.zeros((K,D))\n",
        "cov = torch.eye(D)\n",
        "data = torch.randn(N, D)\n",
        "MultivariateNormal(mean, cov).log_prob(data.unsqueeze(1))"
      ],
      "metadata": {
        "colab": {
          "base_uri": "https://localhost:8080/"
        },
        "id": "8GrsicB8GqDU",
        "outputId": "23e9b4ff-c9f9-4814-dd21-1897f1c982f7"
      },
      "execution_count": 19,
      "outputs": [
        {
          "output_type": "execute_result",
          "data": {
            "text/plain": [
              "tensor([[-4.0859, -4.0859, -4.0859, -4.0859],\n",
              "        [-3.4505, -3.4505, -3.4505, -3.4505],\n",
              "        [-5.0958, -5.0958, -5.0958, -5.0958],\n",
              "        [-3.6635, -3.6635, -3.6635, -3.6635],\n",
              "        [-3.5402, -3.5402, -3.5402, -3.5402],\n",
              "        [-2.9518, -2.9518, -2.9518, -2.9518],\n",
              "        [-3.0057, -3.0057, -3.0057, -3.0057],\n",
              "        [-5.7989, -5.7989, -5.7989, -5.7989],\n",
              "        [-3.1180, -3.1180, -3.1180, -3.1180],\n",
              "        [-5.5450, -5.5450, -5.5450, -5.5450]])"
            ]
          },
          "metadata": {},
          "execution_count": 19
        }
      ]
    }
  ]
}